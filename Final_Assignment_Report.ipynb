{
    "nbformat_minor": 1, 
    "cells": [
        {
            "source": "## Introduction", 
            "cell_type": "markdown", 
            "metadata": {}
        }, 
        {
            "source": "Every city has a lot of restaurants, but still there is always scope for new ones. Selecting the best suitable location is the most important factor for a restaurant to flourish. It should be set up in a location that has the target population and has other advantages such as little or no competition.\n\nThis solution will be helpful for anyone looking to open an Asian cuisine restaurant in the city of New York. The objective of the solution is to find a location that suits the below criteria.\n\nA location that has more number of restaurants as that implies a good demand for restaurants.\nA location that has no or few Asian cuisine restaurants, as this will ensure that there is no incumbent player or very little competition.\nData\nThe data that will be used in this solution is from a json file available at https://ibm.box.com/shared/static/fbpwbovar7lf8p5sgddm06cgipa2rxpe.json. The json file has the data related to all neighborhoods in the city of New York.\n\nThis solution focuses on neighborhoods in Manhattan and Brooklyn to identify the suitable location. We explore the neighborhoods using Foursquare API to find the avenues within 500 meters of each neighborhood. The Foursquare API that will be used to explore the neighborhoods is https://api.foursquare.com/v2/venues/explore. An example of the API call is https://api.foursquare.com/v2/venues/explore?&client_id=XXXXX&client_secret=XXXX&v=20180605&ll=40.87655077879964,-73.91065965862981&radius=500&limit=10. This API returns json response which will be transformed into a dataframe, taking only the required details into consideration.", 
            "cell_type": "markdown", 
            "metadata": {}
        }, 
        {
            "source": "## Methodology", 
            "cell_type": "markdown", 
            "metadata": {}
        }, 
        {
            "source": "The json data is converted to a pandas dataframe. The data is cleaned to have only the required data in the dataframe. The dataframe has the details of the Boroughs, Neighborhoods, Latitudes, and Longitudes details of the neighborhoods in the city of Newyork.\n\nIn this solution we will be focusing on Manahattan and Brooklyn to find the best location to open an Asian restaurant. So, the neighborhoods dataframe is further refined to form 2 dataframes one each for Manhattan and Brooklyn neighborhoods.\n\nGeopy library is used to get the latitude and longitude of Manhattan and Brooklyn. Folium is used to visualize the neighborhoods in Manhattan and Brooklyn.\n\nFoursquare API is used to explore the neighborhoods in Manhattan and Brooklyn. The venues in the neighborhoods are further worked on to get a count of restaurants in each neighborhood. From the list of restaurants, we arrive at the count of Asian restaurants in each neighborhood.\n\nManhattan and Brooklyn are compared based on the total number of restaurants and Asian restaurants located in them, to choose the better Borough among the two.\n\nOnce the Borough has been finalized, we further explore each of the neighborhoods in it to finalize two neighborhoods as potential location to open an Asian restaurant.\n\nTo finalize the neighborhoods we look into the following:\n\nWe compare the total count of restaurants and Asian restaurants in the neighborhoods.\nWe look at the top 5 common venues in the neighborhoods.\nWe run K-means clustering on the neighborhoods to split them into clusters.\nWe analyze the clusters and validate our location suggestion using the cluster in which the neighborhood falls into\n\n", 
            "cell_type": "markdown", 
            "metadata": {}
        }, 
        {
            "source": "## Results", 
            "cell_type": "markdown", 
            "metadata": {}
        }, 
        {
            "source": "Manhattan has more venues than Brooklyn\nManhattan has more restaurants than Brooklyn\nManhattan has fewer Asian restaurants than Brooklyn (We choose Manhattan as the preferred Borough based on results 2 & 3)\nIn Manhattan Greenwich Village has the most number of restaurants and Chinatown stands next\nGreenwich Village has no Asian restaurants, whereas Chinatown has 2 of them\nBoth Greenwich Village and Chinatown have restaurants as the 4 out of 5 most common venues in the neighborhood. But, the restaurants in Chinatown appear to be those serving cuisines which overlap with Asian cuisine. Whereas, the restaurants in Greenwich Village as more spread out in terms of the cuisine they offer 7.Greenwich Village falls in cluster 0 when we do K-means clustering. The neighborhoods in cluster 0 predominantly have eatery joints as the top 10 common venues.", 
            "cell_type": "markdown", 
            "metadata": {}
        }, 
        {
            "source": "## Discussion", 
            "cell_type": "markdown", 
            "metadata": {}
        }, 
        {
            "source": "Manhattan has more venues than Brooklyn, even though it has less neighborhoods than Brooklyn. This implies that Manhattan has more commercial activity than Brooklyn. Furthermore, Manhattan has more restaurants than Brooklyn, but fewer Asian restaurants than Brooklyn. This tilts the scale in favor of Manhattan to open a new Asian restaurant as there are fewer options available in it for Asian cuisine.\n\nIn Manhattan, Greenwich village has the most number of restaurants followed by Chinatown. In general, more number of restaurants implies that there is good demand for restaurants in that locality.\n\nBoth Greenwich Village and Chinatown have restaurants as the 4 out of 5 most common venues in the neighborhood. But, the restaurants in Chinatown appear to be those serving cuisines that overlap with Asian cuisine. Whereas, the restaurants in Greenwich Village as more spread out in terms of the cuisine they offer.\n\nFurther, Chinatown already has 2 Asian restaurants whereas Greenwich Village doesn't have any. So, an Asian restaurant would be a good addition to the restaurants available in it.\n\nGreenwich Village falls in cluster 0 when we do K-means clustering. The neighborhoods in cluster 0 predominantly have eatery joints as the top 10 common venues. This further strengths the case of Greenwich as a good option to open an Asian restaurant.\n\nThe added advantage for Greenwich village is it is in close proximity of affluent neighborhoods such as Soho and Tribeca. So, it is quite possible that people of these affluent neighborhoods would visit a restaurant that serves a new cuisine in a nearby locality.", 
            "cell_type": "markdown", 
            "metadata": {}
        }, 
        {
            "source": "## Conclusion", 
            "cell_type": "markdown", 
            "metadata": {
                "collapsed": true
            }
        }, 
        {
            "source": "Based on the findings, we can conclude that Greenwich village is the best neighborhood to start an Asian Restaurants among the neighborhoods of Manhattan and Brooklyn. The major factors that worked in favor of Greenwich Village are the absence of Asian restaurants in it even though it has the most number of restaurants in Manhattan, wide spread of the cuisines offered by the restaurants located in it, and it's close proximity to affluent neighborhoods.", 
            "cell_type": "markdown", 
            "metadata": {}
        }, 
        {
            "execution_count": null, 
            "cell_type": "code", 
            "metadata": {}, 
            "outputs": [], 
            "source": ""
        }
    ], 
    "metadata": {
        "kernelspec": {
            "display_name": "Python 3.5", 
            "name": "python3", 
            "language": "python"
        }, 
        "language_info": {
            "mimetype": "text/x-python", 
            "nbconvert_exporter": "python", 
            "version": "3.5.5", 
            "name": "python", 
            "file_extension": ".py", 
            "pygments_lexer": "ipython3", 
            "codemirror_mode": {
                "version": 3, 
                "name": "ipython"
            }
        }
    }, 
    "nbformat": 4
}